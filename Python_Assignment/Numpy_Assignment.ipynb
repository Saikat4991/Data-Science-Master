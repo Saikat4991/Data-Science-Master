{
 "cells": [
  {
   "cell_type": "markdown",
   "id": "6d9ee2b4-bd71-4766-aa96-7d1467326022",
   "metadata": {},
   "source": [
    "## Consider the below code to answer further questions:\n"
   ]
  },
  {
   "cell_type": "code",
   "execution_count": 1,
   "id": "8b229119-d9c4-4b07-b2ee-c170262929a4",
   "metadata": {},
   "outputs": [],
   "source": [
    "import numpy as np\n",
    "list_ = [ '1' , '2' , '3' , '4' , '5' ]\n",
    "array_list = np.array(object = list_)"
   ]
  },
  {
   "cell_type": "markdown",
   "id": "e66c0546-214a-4071-af6b-488ec02219ec",
   "metadata": {},
   "source": [
    "## Q1. Is there any difference in the data type of variables list_ and array_list? If there is then write a code to print the data types of both the variables.\n",
    "### Ans:\n",
    "Yes, data type of variables list_ and array_list are different. \n",
    "1. list_ : it is a list data type\n",
    "2. array_list: it is a array data type with dimention 1"
   ]
  },
  {
   "cell_type": "code",
   "execution_count": 2,
   "id": "563eb10c-b8e6-45db-9c1e-1f64b6278337",
   "metadata": {},
   "outputs": [
    {
     "data": {
      "text/plain": [
       "['1', '2', '3', '4', '5']"
      ]
     },
     "execution_count": 2,
     "metadata": {},
     "output_type": "execute_result"
    }
   ],
   "source": [
    "list_"
   ]
  },
  {
   "cell_type": "code",
   "execution_count": 3,
   "id": "f55cc5ab-aa70-4cc0-b0e2-ef58c795fc3a",
   "metadata": {},
   "outputs": [
    {
     "data": {
      "text/plain": [
       "array(['1', '2', '3', '4', '5'], dtype='<U1')"
      ]
     },
     "execution_count": 3,
     "metadata": {},
     "output_type": "execute_result"
    }
   ],
   "source": [
    "array_list"
   ]
  },
  {
   "cell_type": "code",
   "execution_count": 4,
   "id": "49221901-0bb4-4168-93a0-35e45e43388d",
   "metadata": {},
   "outputs": [
    {
     "data": {
      "text/plain": [
       "list"
      ]
     },
     "execution_count": 4,
     "metadata": {},
     "output_type": "execute_result"
    }
   ],
   "source": [
    "type(list_)"
   ]
  },
  {
   "cell_type": "code",
   "execution_count": 5,
   "id": "52bd29e3-046f-4e89-aa0f-57dd23265ede",
   "metadata": {},
   "outputs": [
    {
     "data": {
      "text/plain": [
       "numpy.ndarray"
      ]
     },
     "execution_count": 5,
     "metadata": {},
     "output_type": "execute_result"
    }
   ],
   "source": [
    "type(array_list)"
   ]
  },
  {
   "cell_type": "code",
   "execution_count": 6,
   "id": "c0f9ecda-f4ff-4c50-939e-f2e245b2b32c",
   "metadata": {},
   "outputs": [
    {
     "data": {
      "text/plain": [
       "1"
      ]
     },
     "execution_count": 6,
     "metadata": {},
     "output_type": "execute_result"
    }
   ],
   "source": [
    "array_list.ndim"
   ]
  },
  {
   "cell_type": "markdown",
   "id": "8a020e64-ba88-4838-af7b-de0bc2bc93fe",
   "metadata": {},
   "source": [
    "*************************************************************************************************************************************"
   ]
  },
  {
   "cell_type": "markdown",
   "id": "35a7909a-9a50-4dae-9ac8-1bbeb4019c65",
   "metadata": {},
   "source": [
    "## Q2. Write a code to print the data type of each and every element of both the variables list_ and array_list."
   ]
  },
  {
   "cell_type": "code",
   "execution_count": 7,
   "id": "6b0b9596-1c21-46a9-be95-42fb773841b8",
   "metadata": {},
   "outputs": [
    {
     "name": "stdout",
     "output_type": "stream",
     "text": [
      "1 <class 'str'>\n",
      "2 <class 'str'>\n",
      "3 <class 'str'>\n",
      "4 <class 'str'>\n",
      "5 <class 'str'>\n"
     ]
    }
   ],
   "source": [
    "for element in list_:\n",
    "    print(element, type(element))"
   ]
  },
  {
   "cell_type": "code",
   "execution_count": 8,
   "id": "0388ce04-4382-4e40-9f1f-1dc4d8d48c23",
   "metadata": {},
   "outputs": [
    {
     "name": "stdout",
     "output_type": "stream",
     "text": [
      "1 <class 'numpy.str_'>\n",
      "2 <class 'numpy.str_'>\n",
      "3 <class 'numpy.str_'>\n",
      "4 <class 'numpy.str_'>\n",
      "5 <class 'numpy.str_'>\n"
     ]
    }
   ],
   "source": [
    "for element in array_list:\n",
    "    print(element, type(element))"
   ]
  },
  {
   "cell_type": "markdown",
   "id": "7186ec32-7fcb-4622-8f34-5d5c1a100d13",
   "metadata": {},
   "source": [
    "*************************************************************************************************************************************"
   ]
  },
  {
   "cell_type": "markdown",
   "id": "3d602ed1-ae22-4524-9166-a2ff6aed148a",
   "metadata": {},
   "source": [
    "## Q3. Considering the following changes in the variable, array_list:"
   ]
  },
  {
   "cell_type": "code",
   "execution_count": 9,
   "id": "12886ac3-55ef-4cb5-a864-ae6fa695f8a1",
   "metadata": {},
   "outputs": [],
   "source": [
    "array_list = np.array(object = list_, dtype = int)"
   ]
  },
  {
   "cell_type": "markdown",
   "id": "44b69fe8-49dc-403e-ba79-75cd664c91c1",
   "metadata": {},
   "source": [
    "### Will there be any difference in the data type of the elements present in both the variables, list_ and array_list?"
   ]
  },
  {
   "cell_type": "markdown",
   "id": "19b03e6e-7d27-4af7-8144-fc83bd9ca287",
   "metadata": {},
   "source": [
    "### Ans:\n",
    "Yes, data type of variables list_ and array_list are different. \n",
    "1. list_ : it is a list data type\n",
    "2. array_list: it is a array data type with dimention 1"
   ]
  },
  {
   "cell_type": "code",
   "execution_count": 10,
   "id": "61606b50-c92d-43c4-95eb-77f479777cb0",
   "metadata": {},
   "outputs": [
    {
     "data": {
      "text/plain": [
       "list"
      ]
     },
     "execution_count": 10,
     "metadata": {},
     "output_type": "execute_result"
    }
   ],
   "source": [
    "type(list_)"
   ]
  },
  {
   "cell_type": "code",
   "execution_count": 11,
   "id": "bf1aa458-3fe2-483d-872f-98da3b1b76ff",
   "metadata": {},
   "outputs": [
    {
     "data": {
      "text/plain": [
       "numpy.ndarray"
      ]
     },
     "execution_count": 11,
     "metadata": {},
     "output_type": "execute_result"
    }
   ],
   "source": [
    "type(array_list)"
   ]
  },
  {
   "cell_type": "markdown",
   "id": "3fbe8c3a-5770-4e28-98d5-8f840087b855",
   "metadata": {},
   "source": [
    "### If so then print the data types of each and every element present in both the variables, list_ and array_list."
   ]
  },
  {
   "cell_type": "code",
   "execution_count": 12,
   "id": "a7ce29d2-45d1-43af-bdfa-a5a8195e1577",
   "metadata": {},
   "outputs": [
    {
     "name": "stdout",
     "output_type": "stream",
     "text": [
      "1 <class 'str'>\n",
      "2 <class 'str'>\n",
      "3 <class 'str'>\n",
      "4 <class 'str'>\n",
      "5 <class 'str'>\n"
     ]
    }
   ],
   "source": [
    "for element in list_:\n",
    "    print(element, type(element))"
   ]
  },
  {
   "cell_type": "code",
   "execution_count": 13,
   "id": "e45fc632-31c7-4ae8-8a67-d25de03293e7",
   "metadata": {},
   "outputs": [
    {
     "name": "stdout",
     "output_type": "stream",
     "text": [
      "1 <class 'numpy.int64'>\n",
      "2 <class 'numpy.int64'>\n",
      "3 <class 'numpy.int64'>\n",
      "4 <class 'numpy.int64'>\n",
      "5 <class 'numpy.int64'>\n"
     ]
    }
   ],
   "source": [
    "for element in array_list:\n",
    "    print(element, type(element))"
   ]
  },
  {
   "cell_type": "markdown",
   "id": "d86f39fc-7cc1-4077-b3b7-98fb19b44ce3",
   "metadata": {},
   "source": [
    "*************************************************************************************************************************************"
   ]
  },
  {
   "cell_type": "markdown",
   "id": "f233d5ba-b4fa-40af-9b3a-5e8fb63ca3a4",
   "metadata": {},
   "source": [
    "## Consider the below code to answer further questions:"
   ]
  },
  {
   "cell_type": "code",
   "execution_count": 14,
   "id": "a68fa09d-348e-408a-a404-4ff54e42ce6c",
   "metadata": {},
   "outputs": [],
   "source": [
    "import numpy as np\n",
    "num_list = [ [ 1 , 2 , 3 ] , [ 4 , 5 , 6 ] ]\n",
    "num_array = np.array(object = num_list)"
   ]
  },
  {
   "cell_type": "markdown",
   "id": "94214185-6e90-47e0-a595-6a1d0bb15e9a",
   "metadata": {},
   "source": [
    "## Q4. Write a code to find the following characteristics of variable, num_array:\n"
   ]
  },
  {
   "cell_type": "markdown",
   "id": "ba1a9a2e-2721-4679-bb90-78d84c8aded2",
   "metadata": {},
   "source": [
    "### (i) shape"
   ]
  },
  {
   "cell_type": "code",
   "execution_count": 15,
   "id": "ddcb2741-277c-4634-bc7a-edd2b8317923",
   "metadata": {},
   "outputs": [
    {
     "data": {
      "text/plain": [
       "(2, 3)"
      ]
     },
     "execution_count": 15,
     "metadata": {},
     "output_type": "execute_result"
    }
   ],
   "source": [
    "num_array.shape"
   ]
  },
  {
   "cell_type": "markdown",
   "id": "366a5d59-7aca-4fe3-93c5-e0642d7e753c",
   "metadata": {},
   "source": [
    "### (ii) size"
   ]
  },
  {
   "cell_type": "code",
   "execution_count": 16,
   "id": "36df8ca7-8fb5-4d47-a7c5-8437f852f29e",
   "metadata": {},
   "outputs": [
    {
     "data": {
      "text/plain": [
       "6"
      ]
     },
     "execution_count": 16,
     "metadata": {},
     "output_type": "execute_result"
    }
   ],
   "source": [
    "np.size(num_array)"
   ]
  },
  {
   "cell_type": "markdown",
   "id": "202771be-8291-4db6-87b4-5e28f27c14be",
   "metadata": {},
   "source": [
    "*************************************************************************************************************************************"
   ]
  },
  {
   "cell_type": "markdown",
   "id": "e515d6e2-8029-4c3b-b3ae-c397173f2619",
   "metadata": {},
   "source": [
    "## Q5. Write a code to create numpy array of 3*3 matrix containing zeros only, using a numpy array creation function.\n",
    "#### [Hint: The size of the array will be 9 and the shape will be (3,3).]\n",
    "\n",
    "### Ans:"
   ]
  },
  {
   "cell_type": "code",
   "execution_count": 17,
   "id": "bd3f709b-57b4-4029-a206-428aefe341ca",
   "metadata": {},
   "outputs": [],
   "source": [
    "zero_matrix = np.zeros((3,3))"
   ]
  },
  {
   "cell_type": "code",
   "execution_count": 18,
   "id": "ba59346a-17b6-463d-87d8-892e6b07e89f",
   "metadata": {},
   "outputs": [
    {
     "data": {
      "text/plain": [
       "array([[0., 0., 0.],\n",
       "       [0., 0., 0.],\n",
       "       [0., 0., 0.]])"
      ]
     },
     "execution_count": 18,
     "metadata": {},
     "output_type": "execute_result"
    }
   ],
   "source": [
    "zero_matrix"
   ]
  },
  {
   "cell_type": "code",
   "execution_count": null,
   "id": "45123e9f-626e-4ed5-bcdb-c5ed980c1aad",
   "metadata": {},
   "outputs": [],
   "source": []
  },
  {
   "cell_type": "markdown",
   "id": "c0389da2-2d59-49dc-8cbb-633c502d1c21",
   "metadata": {},
   "source": [
    "## Q6. Create an identity matrix of shape (5,5) using numpy functions?\n",
    "#### [Hint: An identity matrix is a matrix containing 1 diagonally and other elements will be 0.]\n",
    "\n",
    "### Ans:"
   ]
  },
  {
   "cell_type": "markdown",
   "id": "994a933c-116e-4d0c-b9b3-f1dc46d38d2d",
   "metadata": {},
   "source": [
    "### Approach with array type"
   ]
  },
  {
   "cell_type": "code",
   "execution_count": 19,
   "id": "2e391388-5a75-41ec-a389-c474f0b3eb94",
   "metadata": {},
   "outputs": [
    {
     "data": {
      "text/plain": [
       "array([[1., 0., 0., 0., 0.],\n",
       "       [0., 1., 0., 0., 0.],\n",
       "       [0., 0., 1., 0., 0.],\n",
       "       [0., 0., 0., 1., 0.],\n",
       "       [0., 0., 0., 0., 1.]])"
      ]
     },
     "execution_count": 19,
     "metadata": {},
     "output_type": "execute_result"
    }
   ],
   "source": [
    "identity_matrix1 = np.eye(5)\n",
    "identity_matrix1"
   ]
  },
  {
   "cell_type": "code",
   "execution_count": 20,
   "id": "03ebf779-2ff4-4b18-bed2-c164d0f074e1",
   "metadata": {},
   "outputs": [
    {
     "data": {
      "text/plain": [
       "(5, 5)"
      ]
     },
     "execution_count": 20,
     "metadata": {},
     "output_type": "execute_result"
    }
   ],
   "source": [
    "identity_matrix1.shape"
   ]
  },
  {
   "cell_type": "code",
   "execution_count": 21,
   "id": "d47b9b6d-9e3a-4e38-9953-ebc176bf91bf",
   "metadata": {},
   "outputs": [
    {
     "data": {
      "text/plain": [
       "numpy.ndarray"
      ]
     },
     "execution_count": 21,
     "metadata": {},
     "output_type": "execute_result"
    }
   ],
   "source": [
    "type(identity_matrix1)"
   ]
  },
  {
   "cell_type": "markdown",
   "id": "be3afd79-f09b-45d0-8577-2f2fedbfdd52",
   "metadata": {},
   "source": [
    "### Approach with matrix type"
   ]
  },
  {
   "cell_type": "code",
   "execution_count": 22,
   "id": "7d79be5c-670c-4405-b449-8a7e15b60c80",
   "metadata": {},
   "outputs": [
    {
     "data": {
      "text/plain": [
       "matrix([[1., 0., 0., 0., 0.],\n",
       "        [0., 1., 0., 0., 0.],\n",
       "        [0., 0., 1., 0., 0.],\n",
       "        [0., 0., 0., 1., 0.],\n",
       "        [0., 0., 0., 0., 1.]])"
      ]
     },
     "execution_count": 22,
     "metadata": {},
     "output_type": "execute_result"
    }
   ],
   "source": [
    "import numpy.matlib as nm\n",
    "identity_matrix2 = nm.eye(5)\n",
    "identity_matrix2"
   ]
  },
  {
   "cell_type": "code",
   "execution_count": 23,
   "id": "46b22a36-33ba-46a1-bb11-87ca35cd2e7f",
   "metadata": {},
   "outputs": [
    {
     "data": {
      "text/plain": [
       "(5, 5)"
      ]
     },
     "execution_count": 23,
     "metadata": {},
     "output_type": "execute_result"
    }
   ],
   "source": [
    "identity_matrix2.shape"
   ]
  },
  {
   "cell_type": "code",
   "execution_count": 24,
   "id": "d01701f1-6782-482b-91a7-3aa2a6c518a6",
   "metadata": {},
   "outputs": [
    {
     "data": {
      "text/plain": [
       "numpy.matrix"
      ]
     },
     "execution_count": 24,
     "metadata": {},
     "output_type": "execute_result"
    }
   ],
   "source": [
    "type(identity_matrix2)"
   ]
  }
 ],
 "metadata": {
  "kernelspec": {
   "display_name": "Python 3 (ipykernel)",
   "language": "python",
   "name": "python3"
  },
  "language_info": {
   "codemirror_mode": {
    "name": "ipython",
    "version": 3
   },
   "file_extension": ".py",
   "mimetype": "text/x-python",
   "name": "python",
   "nbconvert_exporter": "python",
   "pygments_lexer": "ipython3",
   "version": "3.10.8"
  }
 },
 "nbformat": 4,
 "nbformat_minor": 5
}
